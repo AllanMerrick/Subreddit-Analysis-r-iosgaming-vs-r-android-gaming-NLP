{
 "cells": [
  {
   "cell_type": "markdown",
   "metadata": {},
   "source": [
    "# Project:  Subreddit Post Analysis: r/iosgaming, r/android gaming\n",
    "\n",
    "### Naive Bayes - Gaussian Regression Modeling\n",
    "We will test our data imported from `subs.csv`. The data will be cleaned and prepared for GridSearching across various hyperparameters selected for our features. <br><br> Subreddit submission posts alongside accompanying post contents have been scraped. Target variable `y` is whether or not the document/row belongs to r/ios_gaming or not. `1` - indicates yes, `0` - indicates no (belongs to r/androidgaming instead)\n",
    "**Contents:**\n",
    "- [Library Imports](#Library-Imports)\n",
    "- [Data Import and Cleaning](#Data-Import-and-Cleaning)\n",
    "- [Modeling Hyperparameters](#Modeling-Hyperparameters)\n",
    " - [1. Count Vectorizer](#1.-Count-Vectorizer)\n",
    " - [2. TfidfVectorizer](#2.-TfidfVectorizer)\n",
    "- [Scoring](#Scoring)"
   ]
  },
  {
   "cell_type": "markdown",
   "metadata": {},
   "source": [
    "### Library Imports"
   ]
  },
  {
   "cell_type": "code",
   "execution_count": 1,
   "metadata": {
    "scrolled": true
   },
   "outputs": [],
   "source": [
    "import pandas as pd\n",
    "import numpy as np\n",
    "import requests\n",
    "from sklearn.model_selection import train_test_split, GridSearchCV\n",
    "from sklearn.feature_extraction.text import CountVectorizer, TfidfVectorizer\n",
    "from sklearn.naive_bayes import GaussianNB\n",
    "from sklearn.pipeline import Pipeline\n",
    "from nltk.corpus import stopwords\n",
    "import random\n",
    "import string"
   ]
  },
  {
   "cell_type": "code",
   "execution_count": 2,
   "metadata": {},
   "outputs": [],
   "source": [
    "# this will handle sparse-matrix created from countvectorizer transformation\n",
    "class DenseTransformer():\n",
    "\n",
    "    def fit(self, X, y=None, **fit_params):\n",
    "        return self\n",
    "\n",
    "    def transform(self, X, y=None, **fit_params):\n",
    "        return X.todense()\n",
    "\n",
    "# https://stackoverflow.com/a/28384887\n",
    "# modified to remove (xxx), James Dargan-SEA 11 found this"
   ]
  },
  {
   "cell_type": "markdown",
   "metadata": {},
   "source": [
    "### Data Import and Cleaning"
   ]
  },
  {
   "cell_type": "code",
   "execution_count": 3,
   "metadata": {
    "scrolled": true
   },
   "outputs": [],
   "source": [
    "subsdf = pd.read_csv('../datasets/subs.csv', )\n",
    "subsdf.drop(columns='Unnamed: 0', inplace = True)\n",
    "subsdf['corpus'] = subsdf['title'] + subsdf['selftext']"
   ]
  },
  {
   "cell_type": "code",
   "execution_count": 4,
   "metadata": {},
   "outputs": [
    {
     "data": {
      "text/plain": [
       "1    10700\n",
       "0    10700\n",
       "Name: is_iosgaming, dtype: int64"
      ]
     },
     "execution_count": 4,
     "metadata": {},
     "output_type": "execute_result"
    }
   ],
   "source": [
    "subsdf['is_iosgaming'].value_counts()"
   ]
  },
  {
   "cell_type": "code",
   "execution_count": 5,
   "metadata": {
    "scrolled": true
   },
   "outputs": [],
   "source": [
    "punct = [i for i in string.punctuation]\n",
    "stops = stopwords.words('english')\n",
    "stops.extend(punct)"
   ]
  },
  {
   "cell_type": "markdown",
   "metadata": {},
   "source": [
    "### Modeling Hyperparameters"
   ]
  },
  {
   "cell_type": "markdown",
   "metadata": {},
   "source": [
    "#### 1. Count Vectorizer\n",
    "- `CountVectorizer()`\n",
    "- `GaussianNB()`\n",
    "- `Pipeline()`\n",
    "- `GridSearchCV()`"
   ]
  },
  {
   "cell_type": "code",
   "execution_count": 6,
   "metadata": {},
   "outputs": [],
   "source": [
    "# establish our target and features\n",
    "X = subsdf['corpus']\n",
    "y = subsdf['is_iosgaming']"
   ]
  },
  {
   "cell_type": "code",
   "execution_count": 7,
   "metadata": {
    "scrolled": true
   },
   "outputs": [],
   "source": [
    "# Train-Test-Split\n",
    "X_train, X_test, y_train, y_test = train_test_split(X, y, stratify = y, random_state = 14) "
   ]
  },
  {
   "cell_type": "code",
   "execution_count": 8,
   "metadata": {
    "scrolled": true
   },
   "outputs": [],
   "source": [
    "#KNN Regression, CountVectorizer HyperParameters\n",
    "#pipline\n",
    "pipe = Pipeline([\n",
    "    ('cvec', CountVectorizer(lowercase = True)),\n",
    "    ('to_dense', DenseTransformer()),\n",
    "    ('gn', GaussianNB())\n",
    "])\n",
    "\n",
    "#params\n",
    "pipe_params = {\n",
    "    'cvec__max_features' : [100, 500, 1000],\n",
    "    'cvec__ngram_range' : [(1,1), (1,2), (2,2)],\n",
    "    'cvec__stop_words' : [None, 'english', stops]\n",
    "#     'cvec__max_df' : (.99, .95, .9) # test different high used words\n",
    "}\n",
    "\n",
    "#gridsearch\n",
    "gs = GridSearchCV(pipe,\n",
    "                 param_grid=pipe_params,\n",
    "                 cv = 5)"
   ]
  },
  {
   "cell_type": "code",
   "execution_count": 9,
   "metadata": {
    "scrolled": true
   },
   "outputs": [],
   "source": [
    "gs.fit(X_train, y_train);"
   ]
  },
  {
   "cell_type": "code",
   "execution_count": 10,
   "metadata": {
    "scrolled": true
   },
   "outputs": [
    {
     "name": "stdout",
     "output_type": "stream",
     "text": [
      "Model Training Score: 0.8175700934579438\n",
      "Model Test Score: 0.8250467289719626\n",
      "{'cvec__max_features': 1000, 'cvec__ngram_range': (2, 2), 'cvec__stop_words': None}\n",
      "Pipeline(memory=None,\n",
      "         steps=[('cvec',\n",
      "                 CountVectorizer(analyzer='word', binary=False,\n",
      "                                 decode_error='strict',\n",
      "                                 dtype=<class 'numpy.int64'>, encoding='utf-8',\n",
      "                                 input='content', lowercase=True, max_df=1.0,\n",
      "                                 max_features=1000, min_df=1,\n",
      "                                 ngram_range=(2, 2), preprocessor=None,\n",
      "                                 stop_words=None, strip_accents=None,\n",
      "                                 token_pattern='(?u)\\\\b\\\\w\\\\w+\\\\b',\n",
      "                                 tokenizer=None, vocabulary=None)),\n",
      "                ('to_dense',\n",
      "                 <__main__.DenseTransformer object at 0x1a1cb64110>),\n",
      "                ('gn', GaussianNB(priors=None, var_smoothing=1e-09))],\n",
      "         verbose=False)\n"
     ]
    }
   ],
   "source": [
    "# Our model's scoring and best params\n",
    "print(f'Model Training Score: {gs.best_score_}')\n",
    "print(f'Model Test Score: {gs.score(X_test, y_test)}')\n",
    "print(gs.best_params_)\n",
    "print(gs.best_estimator_)\n",
    "best_nbcv = gs.best_estimator_"
   ]
  },
  {
   "cell_type": "markdown",
   "metadata": {},
   "source": [
    "#### 2. TfidfVectorizer\n",
    "- `TfidfVectorizer()`\n",
    "- `GaussianNB()`\n",
    "- `Pipeline()`\n",
    "- `GridSearchCV()`"
   ]
  },
  {
   "cell_type": "code",
   "execution_count": null,
   "metadata": {},
   "outputs": [],
   "source": [
    "# establish our target and features\n",
    "X = subsdf['corpus']\n",
    "y = subsdf['is_iosgaming']"
   ]
  },
  {
   "cell_type": "code",
   "execution_count": null,
   "metadata": {},
   "outputs": [],
   "source": [
    "# Train-Test-Split\n",
    "X_train, X_test, y_train, y_test = train_test_split(X, y, stratify = y, random_state = 14) "
   ]
  },
  {
   "cell_type": "code",
   "execution_count": 11,
   "metadata": {},
   "outputs": [],
   "source": [
    "#NB Gaussian Regression, TfidfVectorizer HyperParameters\n",
    "#pipline\n",
    "pipe = Pipeline([\n",
    "    ('tvec', TfidfVectorizer(lowercase = True)),\n",
    "    ('to_dense', DenseTransformer()),\n",
    "    ('gn', GaussianNB())\n",
    "])\n",
    "\n",
    "#params\n",
    "pipe_params = {\n",
    "    'tvec__max_features' : [100, 500, 1000],\n",
    "    'tvec__ngram_range' : [(1,1), (1,2), (2,2)],\n",
    "    'tvec__stop_words' : [None, 'english', stops]\n",
    "#     'tvec__max_df' : (.99, .95, .9) # test different high used words\n",
    "}\n",
    "\n",
    "#gridsearch\n",
    "gs = GridSearchCV(pipe,\n",
    "                 param_grid=pipe_params,\n",
    "                 cv = 5)"
   ]
  },
  {
   "cell_type": "code",
   "execution_count": 12,
   "metadata": {},
   "outputs": [],
   "source": [
    "gs.fit(X_train, y_train);"
   ]
  },
  {
   "cell_type": "code",
   "execution_count": 13,
   "metadata": {
    "scrolled": true
   },
   "outputs": [
    {
     "name": "stdout",
     "output_type": "stream",
     "text": [
      "Model Training Score: 0.9682242990654206\n",
      "Model Test Score: 0.9706542056074766\n",
      "{'tvec__max_features': 1000, 'tvec__ngram_range': (1, 2), 'tvec__stop_words': 'english'}\n",
      "Pipeline(memory=None,\n",
      "         steps=[('tvec',\n",
      "                 TfidfVectorizer(analyzer='word', binary=False,\n",
      "                                 decode_error='strict',\n",
      "                                 dtype=<class 'numpy.float64'>,\n",
      "                                 encoding='utf-8', input='content',\n",
      "                                 lowercase=True, max_df=1.0, max_features=1000,\n",
      "                                 min_df=1, ngram_range=(1, 2), norm='l2',\n",
      "                                 preprocessor=None, smooth_idf=True,\n",
      "                                 stop_words='english', strip_accents=None,\n",
      "                                 sublinear_tf=False,\n",
      "                                 token_pattern='(?u)\\\\b\\\\w\\\\w+\\\\b',\n",
      "                                 tokenizer=None, use_idf=True,\n",
      "                                 vocabulary=None)),\n",
      "                ('to_dense',\n",
      "                 <__main__.DenseTransformer object at 0x1a1dac1950>),\n",
      "                ('gn', GaussianNB(priors=None, var_smoothing=1e-09))],\n",
      "         verbose=False)\n"
     ]
    }
   ],
   "source": [
    "# Our model's scoring and best params\n",
    "print(f'Model Training Score: {gs.best_score_}')\n",
    "print(f'Model Test Score: {gs.score(X_test, y_test)}')\n",
    "print(gs.best_params_)\n",
    "print(gs.best_estimator_)\n",
    "best_nbtv = gs.best_estimator_"
   ]
  },
  {
   "cell_type": "markdown",
   "metadata": {},
   "source": [
    "### Scoring\n",
    "- `Pipe`: `GaussianNB()`, `CountVectorizer()`, `DenseTransformer()`\n",
    "- `Best Score:` 0.8175700934579438\n",
    "- `Test Score:` 0.8250467289719626\n",
    "\n",
    "<br><br>\n",
    "- `Pipe`: `GaussianNB()`, `TfidfVectorizer()`, `DenseTransformer()`\n",
    "- `Best Score:` 0.9682242990654206\n",
    "- `Test Score:` 0.9706542056074766"
   ]
  },
  {
   "cell_type": "code",
   "execution_count": null,
   "metadata": {},
   "outputs": [],
   "source": []
  }
 ],
 "metadata": {
  "kernelspec": {
   "display_name": "Python 3",
   "language": "python",
   "name": "python3"
  },
  "language_info": {
   "codemirror_mode": {
    "name": "ipython",
    "version": 3
   },
   "file_extension": ".py",
   "mimetype": "text/x-python",
   "name": "python",
   "nbconvert_exporter": "python",
   "pygments_lexer": "ipython3",
   "version": "3.7.6"
  }
 },
 "nbformat": 4,
 "nbformat_minor": 4
}
