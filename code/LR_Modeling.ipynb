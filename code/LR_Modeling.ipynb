{
 "cells": [
  {
   "cell_type": "markdown",
   "metadata": {},
   "source": [
    "# Project:  Subreddit Post Analysis: r/iosgaming, r/android gaming\n",
    "\n",
    "### Logistic Regression Modeling\n",
    "We will test our data imported from `subs.csv`. The data will be cleaned and prepared for GridSearching across various hyperparameters selected for our features. <br><br> Subreddit submission posts alongside accompanying post contents have been scraped. Target variable `y` is whether or not the document/row belongs to r/ios_gaming or not. `1` - indicates yes, `0` - indicates no (belongs to r/androidgaming instead)\n",
    "**Contents:**\n",
    "- [Library Imports](#Library-Imports)\n",
    "- [Data Import and Cleaning](#Data-Import-and-Cleaning)\n",
    "- [Modeling Hyperparameters](#Modeling-Hyperparameters)\n",
    " - [1. Count Vectorizer](#1.-Count-Vectorizer)\n",
    " - [2. TfidfVectorizer](#2.-TfidfVectorizer)\n",
    "- [Scoring](#Scoring)"
   ]
  },
  {
   "cell_type": "markdown",
   "metadata": {},
   "source": [
    "### Library Imports"
   ]
  },
  {
   "cell_type": "code",
   "execution_count": 1,
   "metadata": {},
   "outputs": [],
   "source": [
    "# import everything, we'll be using everything if given the tim\n",
    "import pandas as pd\n",
    "import numpy as np\n",
    "import requests\n",
    "from sklearn.model_selection import train_test_split, GridSearchCV\n",
    "from sklearn.feature_extraction.text import CountVectorizer, TfidfVectorizer\n",
    "from sklearn.linear_model import LogisticRegression\n",
    "from sklearn.pipeline import Pipeline\n",
    "from nltk.corpus import stopwords\n",
    "import random\n",
    "import string"
   ]
  },
  {
   "cell_type": "markdown",
   "metadata": {},
   "source": [
    "### Data Import and Cleaning"
   ]
  },
  {
   "cell_type": "code",
   "execution_count": 3,
   "metadata": {},
   "outputs": [],
   "source": [
    "subsdf = pd.read_csv('../datasets/subs.csv', )\n",
    "subsdf.drop(columns='Unnamed: 0', inplace = True)\n",
    "subsdf['corpus'] = subsdf['title'] + subsdf['selftext']"
   ]
  },
  {
   "cell_type": "code",
   "execution_count": 4,
   "metadata": {},
   "outputs": [
    {
     "data": {
      "text/plain": [
       "1    10700\n",
       "0    10700\n",
       "Name: is_iosgaming, dtype: int64"
      ]
     },
     "execution_count": 4,
     "metadata": {},
     "output_type": "execute_result"
    }
   ],
   "source": [
    "subsdf['is_iosgaming'].value_counts()"
   ]
  },
  {
   "cell_type": "markdown",
   "metadata": {},
   "source": [
    "### Modeling Hyperparameters"
   ]
  },
  {
   "cell_type": "markdown",
   "metadata": {},
   "source": [
    "#### 1. Count Vectorizer\n",
    "- `CountVectorizer()`\n",
    "- `LogisticRegression()`\n",
    "- `Pipeline()`\n",
    "- `GridSearchCV()`"
   ]
  },
  {
   "cell_type": "code",
   "execution_count": 5,
   "metadata": {},
   "outputs": [],
   "source": [
    "X = subsdf['corpus']  #needs to be in one column\n",
    "y = subsdf['is_iosgaming']"
   ]
  },
  {
   "cell_type": "code",
   "execution_count": 7,
   "metadata": {},
   "outputs": [],
   "source": [
    "punct = [i for i in string.punctuation]\n",
    "stops = stopwords.words('english')\n",
    "stops.extend(punct)"
   ]
  },
  {
   "cell_type": "code",
   "execution_count": 8,
   "metadata": {},
   "outputs": [],
   "source": [
    "# Train-Test-Split\n",
    "X_train, X_test, y_train, y_test = train_test_split(X, y, stratify = y, random_state = 14) "
   ]
  },
  {
   "cell_type": "code",
   "execution_count": 9,
   "metadata": {},
   "outputs": [],
   "source": [
    "#Logistic Regression, CountVectorizer HyperParameters\n",
    "#pipline\n",
    "pipe = Pipeline([\n",
    "    ('cvec', CountVectorizer(lowercase = True)),\n",
    "    ('lr', LogisticRegression(solver = 'saga', max_iter = 10_000, penalty = 'none' ))\n",
    "])\n",
    "\n",
    "#params\n",
    "pipe_params = {\n",
    "    'cvec__max_features' : [100, 500, 1000],\n",
    "    'cvec__ngram_range' : [(1,1), (1,2), (2,2)],\n",
    "    'cvec__stop_words' : [None, 'english', stops]#, \n",
    "#     'cvec__max_df' : (.99, .95, .9) # test different high used words\n",
    "}\n",
    "\n",
    "#gridsearch\n",
    "gs = GridSearchCV(pipe,\n",
    "                 param_grid=pipe_params,\n",
    "                 cv = 5)"
   ]
  },
  {
   "cell_type": "code",
   "execution_count": 10,
   "metadata": {
    "scrolled": false
   },
   "outputs": [],
   "source": [
    "gs.fit(X_train, y_train);"
   ]
  },
  {
   "cell_type": "code",
   "execution_count": 11,
   "metadata": {},
   "outputs": [
    {
     "name": "stdout",
     "output_type": "stream",
     "text": [
      "Model Training Score: 0.9936448598130841\n",
      "Model Test Score: 0.9958878504672897\n",
      "{'cvec__max_features': 500, 'cvec__ngram_range': (1, 1), 'cvec__stop_words': ['i', 'me', 'my', 'myself', 'we', 'our', 'ours', 'ourselves', 'you', \"you're\", \"you've\", \"you'll\", \"you'd\", 'your', 'yours', 'yourself', 'yourselves', 'he', 'him', 'his', 'himself', 'she', \"she's\", 'her', 'hers', 'herself', 'it', \"it's\", 'its', 'itself', 'they', 'them', 'their', 'theirs', 'themselves', 'what', 'which', 'who', 'whom', 'this', 'that', \"that'll\", 'these', 'those', 'am', 'is', 'are', 'was', 'were', 'be', 'been', 'being', 'have', 'has', 'had', 'having', 'do', 'does', 'did', 'doing', 'a', 'an', 'the', 'and', 'but', 'if', 'or', 'because', 'as', 'until', 'while', 'of', 'at', 'by', 'for', 'with', 'about', 'against', 'between', 'into', 'through', 'during', 'before', 'after', 'above', 'below', 'to', 'from', 'up', 'down', 'in', 'out', 'on', 'off', 'over', 'under', 'again', 'further', 'then', 'once', 'here', 'there', 'when', 'where', 'why', 'how', 'all', 'any', 'both', 'each', 'few', 'more', 'most', 'other', 'some', 'such', 'no', 'nor', 'not', 'only', 'own', 'same', 'so', 'than', 'too', 'very', 's', 't', 'can', 'will', 'just', 'don', \"don't\", 'should', \"should've\", 'now', 'd', 'll', 'm', 'o', 're', 've', 'y', 'ain', 'aren', \"aren't\", 'couldn', \"couldn't\", 'didn', \"didn't\", 'doesn', \"doesn't\", 'hadn', \"hadn't\", 'hasn', \"hasn't\", 'haven', \"haven't\", 'isn', \"isn't\", 'ma', 'mightn', \"mightn't\", 'mustn', \"mustn't\", 'needn', \"needn't\", 'shan', \"shan't\", 'shouldn', \"shouldn't\", 'wasn', \"wasn't\", 'weren', \"weren't\", 'won', \"won't\", 'wouldn', \"wouldn't\", '!', '\"', '#', '$', '%', '&', \"'\", '(', ')', '*', '+', ',', '-', '.', '/', ':', ';', '<', '=', '>', '?', '@', '[', '\\\\', ']', '^', '_', '`', '{', '|', '}', '~']}\n",
      "Pipeline(memory=None,\n",
      "         steps=[('cvec',\n",
      "                 CountVectorizer(analyzer='word', binary=False,\n",
      "                                 decode_error='strict',\n",
      "                                 dtype=<class 'numpy.int64'>, encoding='utf-8',\n",
      "                                 input='content', lowercase=True, max_df=1.0,\n",
      "                                 max_features=500, min_df=1, ngram_range=(1, 1),\n",
      "                                 preprocessor=None,\n",
      "                                 stop_words=['i', 'me', 'my', 'myself', 'we',\n",
      "                                             'our', 'ours', 'ourselves', 'you',\n",
      "                                             \"you're\", \"you've\", \"you'll\",\n",
      "                                             \"...\n",
      "                                             'it', \"it's\", 'its', 'itself', ...],\n",
      "                                 strip_accents=None,\n",
      "                                 token_pattern='(?u)\\\\b\\\\w\\\\w+\\\\b',\n",
      "                                 tokenizer=None, vocabulary=None)),\n",
      "                ('lr',\n",
      "                 LogisticRegression(C=1.0, class_weight=None, dual=False,\n",
      "                                    fit_intercept=True, intercept_scaling=1,\n",
      "                                    l1_ratio=None, max_iter=10000,\n",
      "                                    multi_class='auto', n_jobs=None,\n",
      "                                    penalty='none', random_state=None,\n",
      "                                    solver='saga', tol=0.0001, verbose=0,\n",
      "                                    warm_start=False))],\n",
      "         verbose=False)\n"
     ]
    }
   ],
   "source": [
    "# Our model's scoring and best params\n",
    "print(f'Model Training Score: {gs.best_score_}')\n",
    "print(f'Model Test Score: {gs.score(X_test, y_test)}')\n",
    "print(gs.best_params_)\n",
    "print(gs.best_estimator_)\n",
    "best_lrcv = gs.best_estimator_"
   ]
  },
  {
   "cell_type": "markdown",
   "metadata": {},
   "source": [
    "#### 2. TfidfVectorizer\n",
    "- `TfidfVectorizer()`\n",
    "- `LogisticRegression()`\n",
    "- `Pipeline()`\n",
    "- `GridSearchCV()`"
   ]
  },
  {
   "cell_type": "code",
   "execution_count": null,
   "metadata": {},
   "outputs": [],
   "source": [
    "# establish our target and features\n",
    "X = subsdf['corpus']\n",
    "y = subsdf['is_iosgaming']"
   ]
  },
  {
   "cell_type": "code",
   "execution_count": null,
   "metadata": {},
   "outputs": [],
   "source": [
    "# Train-Test-Split\n",
    "X_train, X_test, y_train, y_test = train_test_split(X, y, stratify = y, random_state = 14) "
   ]
  },
  {
   "cell_type": "code",
   "execution_count": 15,
   "metadata": {},
   "outputs": [],
   "source": [
    "#Logistic Regression, TfidfVectorizer HyperParameters\n",
    "#pipline\n",
    "pipe = Pipeline([\n",
    "    ('tvec', TfidfVectorizer(lowercase = True)),\n",
    "    ('lr', LogisticRegression(solver = 'saga', max_iter = 10_000, penalty = 'none' ))\n",
    "])\n",
    "\n",
    "#params\n",
    "pipe_params = {\n",
    "    'tvec__max_features' : [100, 500, 1000],\n",
    "    'tvec__ngram_range' : [(1,1), (1,2), (2,2)],\n",
    "    'tvec__stop_words' : [None, 'english', stops]#, \n",
    "#     'tvec__max_df' : (.99, .95, .9) # test different high used words\n",
    "}\n",
    "\n",
    "#gridsearch\n",
    "gs = GridSearchCV(pipe,\n",
    "                 param_grid=pipe_params,\n",
    "                 cv = 5)"
   ]
  },
  {
   "cell_type": "code",
   "execution_count": 16,
   "metadata": {},
   "outputs": [],
   "source": [
    "gs.fit(X_train, y_train);"
   ]
  },
  {
   "cell_type": "code",
   "execution_count": 17,
   "metadata": {},
   "outputs": [
    {
     "name": "stdout",
     "output_type": "stream",
     "text": [
      "Model Training Score: 0.9954517133956386\n",
      "Model Test Score: 0.9962616822429906\n",
      "{'tvec__max_features': 1000, 'tvec__ngram_range': (1, 1), 'tvec__stop_words': None}\n",
      "Pipeline(memory=None,\n",
      "         steps=[('tvec',\n",
      "                 TfidfVectorizer(analyzer='word', binary=False,\n",
      "                                 decode_error='strict',\n",
      "                                 dtype=<class 'numpy.float64'>,\n",
      "                                 encoding='utf-8', input='content',\n",
      "                                 lowercase=True, max_df=1.0, max_features=1000,\n",
      "                                 min_df=1, ngram_range=(1, 1), norm='l2',\n",
      "                                 preprocessor=None, smooth_idf=True,\n",
      "                                 stop_words=None, strip_accents=None,\n",
      "                                 sublinear_tf=False,\n",
      "                                 token_pattern='(?u)\\\\b\\\\w\\\\w+\\\\b',\n",
      "                                 tokenizer=None, use_idf=True,\n",
      "                                 vocabulary=None)),\n",
      "                ('lr',\n",
      "                 LogisticRegression(C=1.0, class_weight=None, dual=False,\n",
      "                                    fit_intercept=True, intercept_scaling=1,\n",
      "                                    l1_ratio=None, max_iter=10000,\n",
      "                                    multi_class='auto', n_jobs=None,\n",
      "                                    penalty='none', random_state=None,\n",
      "                                    solver='saga', tol=0.0001, verbose=0,\n",
      "                                    warm_start=False))],\n",
      "         verbose=False)\n"
     ]
    }
   ],
   "source": [
    "# Our model's scoring and best params\n",
    "print(f'Model Training Score: {gs.best_score_}')\n",
    "print(f'Model Test Score: {gs.score(X_test, y_test)}')\n",
    "print(gs.best_params_)\n",
    "print(gs.best_estimator_)\n",
    "best_lrtv = gs.best_estimator_"
   ]
  },
  {
   "cell_type": "markdown",
   "metadata": {},
   "source": [
    "### Scoring\n",
    "- `Pipe`: `LogisticRegression()`, `CountVectorizer()`\n",
    "- `Best Score:` 0.9936448598130841\n",
    "- `Test Score:` 0.9958878504672897\n",
    "<br><br>\n",
    "- `Pipe`: `LogisticRegression()`, `TfidfVectorizer()`\n",
    "- `Best Score:` 0.9954517133956386\n",
    "- `Test Score:` 0.9962616822429906\n"
   ]
  }
 ],
 "metadata": {
  "kernelspec": {
   "display_name": "Python 3",
   "language": "python",
   "name": "python3"
  },
  "language_info": {
   "codemirror_mode": {
    "name": "ipython",
    "version": 3
   },
   "file_extension": ".py",
   "mimetype": "text/x-python",
   "name": "python",
   "nbconvert_exporter": "python",
   "pygments_lexer": "ipython3",
   "version": "3.7.6"
  }
 },
 "nbformat": 4,
 "nbformat_minor": 4
}
